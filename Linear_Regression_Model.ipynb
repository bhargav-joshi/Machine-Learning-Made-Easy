{
  "nbformat": 4,
  "nbformat_minor": 0,
  "metadata": {
    "colab": {
      "name": "Linear Regression Model.ipynb",
      "provenance": [],
      "collapsed_sections": [],
      "authorship_tag": "ABX9TyO6VyX/yVc7B6iwziewUwcj",
      "include_colab_link": true
    },
    "kernelspec": {
      "name": "python3",
      "display_name": "Python 3"
    },
    "language_info": {
      "name": "python"
    }
  },
  "cells": [
    {
      "cell_type": "markdown",
      "metadata": {
        "id": "view-in-github",
        "colab_type": "text"
      },
      "source": [
        "<a href=\"https://colab.research.google.com/github/bhargav-joshi/Machine-Learning-Made-Easy/blob/main/Linear_Regression_Model.ipynb\" target=\"_parent\"><img src=\"https://colab.research.google.com/assets/colab-badge.svg\" alt=\"Open In Colab\"/></a>"
      ]
    },
    {
      "cell_type": "code",
      "metadata": {
        "id": "kPaRyqlKAYnJ"
      },
      "source": [
        "# step1 - Import Necessary functions\n",
        "\n",
        "import matplotlib.pyplot as plt\n",
        "import numpy as np\n",
        "from sklearn import datasets, linear_model\n",
        "from sklearn.metrics import mean_squared_error, r2_score"
      ],
      "execution_count": null,
      "outputs": []
    },
    {
      "cell_type": "code",
      "metadata": {
        "id": "M1MPMD00AsHQ"
      },
      "source": [
        "# step2 - Load the datasets\n",
        "\n",
        "diabetes = datasets.load_diabetes()"
      ],
      "execution_count": null,
      "outputs": []
    },
    {
      "cell_type": "code",
      "metadata": {
        "id": "fPw94n3PA2RH"
      },
      "source": [
        "# step2.1 - Select the features for plotting\n",
        "\n",
        "diabetes_x = diabetes.data[:,np.newaxis,2]\n",
        "\n",
        "# This means the second feature is selected for plotting"
      ],
      "execution_count": null,
      "outputs": []
    },
    {
      "cell_type": "code",
      "metadata": {
        "id": "deQ6aMROBIkN"
      },
      "source": [
        "# step3 - Split the data into training data & testing data\n",
        "\n",
        "diabetes_x_train = diabetes_x[:-20]\n",
        "diabetes_x_test = diabetes_x[-20:]\n",
        "diabetes_y_train = diabetes_x[:-20]\n",
        "diabetes_y_test = diabetes_x[-20:]\n"
      ],
      "execution_count": null,
      "outputs": []
    },
    {
      "cell_type": "code",
      "metadata": {
        "id": "6rtKgD8dBkIS"
      },
      "source": [
        "# step4 - Create the linear regression model\n",
        "\n",
        "regr = linear_model.LinearRegression()\n",
        "\n",
        "#linear_model has the LinearRegression Method"
      ],
      "execution_count": null,
      "outputs": []
    },
    {
      "cell_type": "code",
      "metadata": {
        "colab": {
          "base_uri": "https://localhost:8080/"
        },
        "id": "52gFNzfhB3z4",
        "outputId": "1422e46d-fe7c-4690-a642-feccd17c34f5"
      },
      "source": [
        "# step5 - Train the model using training set\n",
        "\n",
        "regr.fit(diabetes_x_train,diabetes_y_train)"
      ],
      "execution_count": null,
      "outputs": [
        {
          "output_type": "execute_result",
          "data": {
            "text/plain": [
              "LinearRegression(copy_X=True, fit_intercept=True, n_jobs=None, normalize=False)"
            ]
          },
          "metadata": {
            "tags": []
          },
          "execution_count": 6
        }
      ]
    },
    {
      "cell_type": "code",
      "metadata": {
        "id": "7rk10U9PCF1u"
      },
      "source": [
        "# step6 - Make the predications on testing set\n",
        "\n",
        "diabetes_y_pred = regr.predict(diabetes_x_test)"
      ],
      "execution_count": null,
      "outputs": []
    },
    {
      "cell_type": "code",
      "metadata": {
        "colab": {
          "base_uri": "https://localhost:8080/"
        },
        "id": "YQcQOZFOCSXH",
        "outputId": "7ac4e1a7-7517-4bfe-9a73-7d10243de32b"
      },
      "source": [
        "# step7 - Display the regression coefficients\n",
        "\n",
        "print('coefficients: \\n', regr.coef_)\n",
        "print(\"Mean Squre Error : %.2f\" % mean_squared_error(diabetes_y_test,diabetes_y_pred))\n",
        "print('Variance score : %.2f' % r2_score(diabetes_y_test,diabetes_y_pred))"
      ],
      "execution_count": null,
      "outputs": [
        {
          "output_type": "stream",
          "text": [
            "coefficients: \n",
            " [[1.]]\n",
            "Mean Squre Error : 0.00\n",
            "Variance score : 1.00\n"
          ],
          "name": "stdout"
        }
      ]
    },
    {
      "cell_type": "code",
      "metadata": {
        "colab": {
          "base_uri": "https://localhost:8080/",
          "height": 252
        },
        "id": "SUSownD1DHuw",
        "outputId": "a5ec7aba-08fe-4343-cb04-74fbe3385eef"
      },
      "source": [
        "# plotting the outputs\n",
        "\n",
        "plt.scatter(diabetes_x_test, diabetes_y_test, color='black')\n",
        "plt.plot(diabetes_x_test, diabetes_y_pred, color='red', linewidth=2)\n",
        "plt.xticks(())\n",
        "plt.yticks(())\n",
        "plt.show()"
      ],
      "execution_count": null,
      "outputs": [
        {
          "output_type": "display_data",
          "data": {
            "image/png": "[encoded data removed]",
            "text/plain": [
              "<Figure size 432x288 with 1 Axes>"
            ]
          },
          "metadata": {
            "tags": []
          }
        }
      ]
    },
    {
      "cell_type": "code",
      "metadata": {
        "id": "eogLOZt9Dr2C"
      },
      "source": [
        ""
      ],
      "execution_count": null,
      "outputs": []
    }
  ]
}